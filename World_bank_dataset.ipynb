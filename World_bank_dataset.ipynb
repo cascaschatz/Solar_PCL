{
  "nbformat": 4,
  "nbformat_minor": 0,
  "metadata": {
    "colab": {
      "provenance": [],
      "authorship_tag": "ABX9TyMVFw26WkyRrmA/rAYHNjUy",
      "include_colab_link": true
    },
    "kernelspec": {
      "name": "python3",
      "display_name": "Python 3"
    },
    "language_info": {
      "name": "python"
    }
  },
  "cells": [
    {
      "cell_type": "markdown",
      "metadata": {
        "id": "view-in-github",
        "colab_type": "text"
      },
      "source": [
        "<a href=\"https://colab.research.google.com/github/cascaschatz/Solar_PCL/blob/master/World_bank_dataset.ipynb\" target=\"_parent\"><img src=\"https://colab.research.google.com/assets/colab-badge.svg\" alt=\"Open In Colab\"/></a>"
      ]
    },
    {
      "cell_type": "code",
      "execution_count": null,
      "metadata": {
        "colab": {
          "base_uri": "https://localhost:8080/"
        },
        "id": "7Tm07Bp1o03R",
        "outputId": "8790919a-3069-417e-f0ca-3661286be0a4"
      },
      "outputs": [
        {
          "output_type": "stream",
          "name": "stdout",
          "text": [
            "Drive already mounted at /content/gdrive; to attempt to forcibly remount, call drive.mount(\"/content/gdrive\", force_remount=True).\n"
          ]
        }
      ],
      "source": [
        "from google.colab import drive\n",
        "drive.mount('/content/gdrive')"
      ]
    },
    {
      "cell_type": "code",
      "source": [
        "import os\n",
        "cwd = os.getcwd()\n",
        "print(cwd)\n",
        "os.chdir(\"/content/gdrive/My Drive\")"
      ],
      "metadata": {
        "id": "TVBwt0fno915"
      },
      "execution_count": null,
      "outputs": []
    },
    {
      "cell_type": "markdown",
      "source": [],
      "metadata": {
        "id": "jqX7upYvljSZ"
      }
    },
    {
      "cell_type": "code",
      "source": [
        "import pandas as pd\n",
        "df_worldbank = pd.read_excel(r'WDIEXCEL.xlsx', engine='openpyxl')"
      ],
      "metadata": {
        "id": "sBwRcpAgphrl"
      },
      "execution_count": null,
      "outputs": []
    },
    {
      "cell_type": "code",
      "source": [
        "df_worldbank.head()"
      ],
      "metadata": {
        "id": "Ebuz-n2juzAe"
      },
      "execution_count": null,
      "outputs": []
    },
    {
      "cell_type": "code",
      "source": [
        "#exclude redundant columns \n",
        "df_worldbank=df_worldbank.loc[:, ~df_worldbank.columns.isin(['Country Code', 'Indicator Code'])]"
      ],
      "metadata": {
        "id": "Jsx0XmQXvGI9"
      },
      "execution_count": null,
      "outputs": []
    },
    {
      "cell_type": "code",
      "source": [
        "df_worldbank"
      ],
      "metadata": {
        "id": "EbbKjg0aw6UL"
      },
      "execution_count": null,
      "outputs": []
    },
    {
      "cell_type": "code",
      "source": [
        "#Converte columns to rows\n",
        "\n",
        "df_melt=pd.melt(df_worldbank, id_vars=['Country Name','Indicator Name'], value_vars=['1960', '1961', '1962', '1963',\n",
        "       '1964', '1965', '1966', '1967', '1968', '1969', '1970', '1971', '1972',\n",
        "       '1973', '1974', '1975', '1976', '1977', '1978', '1979', '1980', '1981',\n",
        "       '1982', '1983', '1984', '1985', '1986', '1987', '1988', '1989', '1990',\n",
        "       '1991', '1992', '1993', '1994', '1995', '1996', '1997', '1998', '1999',\n",
        "       '2000', '2001', '2002', '2003', '2004', '2005', '2006', '2007', '2008',\n",
        "       '2009', '2010', '2011', '2012', '2013', '2014', '2015', '2016', '2017',\n",
        "       '2018', '2019', '2020', '2021'],var_name='Year',value_name='Value')\n",
        "df_melt"
      ],
      "metadata": {
        "id": "hBvq2JSGqSW3"
      },
      "execution_count": null,
      "outputs": []
    },
    {
      "cell_type": "code",
      "source": [
        "#Converte rows to columns \n",
        "\n",
        "df_pivot=df_melt.pivot(index=['Country Name','Year'], columns='Indicator Name', values=['Value'])\n",
        "df_pivot"
      ],
      "metadata": {
        "id": "YvDbgj0jqaUg"
      },
      "execution_count": null,
      "outputs": []
    },
    {
      "cell_type": "code",
      "source": [
        "#Drop level to get one level of columns\n",
        "\n",
        "df_pivot.columns = df_pivot.columns.droplevel()\n",
        "df_pivot"
      ],
      "metadata": {
        "id": "V8qzll8jq8t2"
      },
      "execution_count": null,
      "outputs": []
    },
    {
      "cell_type": "code",
      "source": [
        "# Rename axis to remove Days which is our previous column name\n",
        "\n",
        "modified_df=df_pivot.rename_axis(None,axis=1)\n",
        "modified_df"
      ],
      "metadata": {
        "id": "-bWzcnZZq_LE"
      },
      "execution_count": null,
      "outputs": []
    },
    {
      "cell_type": "code",
      "source": [
        "# Reset index to convert our indices to columns\n",
        "\n",
        "modified_df=modified_df.reset_index()\n",
        "modified_df"
      ],
      "metadata": {
        "id": "VFs56796rLPP"
      },
      "execution_count": null,
      "outputs": []
    },
    {
      "cell_type": "code",
      "source": [
        "modified_df.to_excel(r'world_bank.xlsx', index = False)"
      ],
      "metadata": {
        "id": "mcN-TIWon_Af"
      },
      "execution_count": null,
      "outputs": []
    },
    {
      "cell_type": "code",
      "source": [
        "modified_df.to_csv('/content/gdrive/My Drive/world_bank.csv',index = True)  "
      ],
      "metadata": {
        "id": "CgbuqGvwq77s"
      },
      "execution_count": null,
      "outputs": []
    }
  ]
}